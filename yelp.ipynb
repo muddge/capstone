{
 "cells": [
  {
   "cell_type": "code",
   "execution_count": 209,
   "metadata": {
    "collapsed": true
   },
   "outputs": [],
   "source": [
    "from sklearn.feature_extraction.text import CountVectorizer\n",
    "from sklearn.feature_extraction.text import TfidfTransformer\n",
    "from sklearn.naive_bayes import MultinomialNB\n",
    "from sklearn.naive_bayes import GaussianNB\n",
    "from sklearn.datasets import load_files\n",
    "from sklearn.pipeline import Pipeline\n",
    "from sklearn.linear_model import SGDClassifier\n",
    "from sklearn.grid_search import GridSearchCV\n",
    "from sklearn.decomposition import PCA\n",
    "from sklearn import metrics\n",
    "from sklearn.svm import SVC\n",
    "from sklearn.ensemble import RandomForestClassifier \n",
    "import matplotlib.pyplot as plt\n",
    "from mpl_toolkits.mplot3d import Axes3D\n",
    "import numpy as np\n",
    "import nltk\n",
    "import os\n",
    "import re\n",
    "import random\n",
    "%matplotlib inline"
   ]
  },
  {
   "cell_type": "code",
   "execution_count": null,
   "metadata": {
    "collapsed": false
   },
   "outputs": [],
   "source": []
  },
  {
   "cell_type": "code",
   "execution_count": 2,
   "metadata": {
    "collapsed": true
   },
   "outputs": [],
   "source": [
    "yelp_train = load_files('.\\\\yelp\\\\train', description='imdb reviews train', categories=['neg','pos'], shuffle='True',\n",
    "                            load_content=True, encoding='utf-8')\n",
    "yelp_test = load_files('.\\\\yelp\\\\test', description='imdb reviews test', categories=['neg','pos'], shuffle='True',\n",
    "                            load_content=True, encoding='utf-8')\n",
    "docs_test = yelp_test.data"
   ]
  },
  {
   "cell_type": "code",
   "execution_count": 216,
   "metadata": {
    "collapsed": false
   },
   "outputs": [
    {
     "name": "stdout",
     "output_type": "stream",
     "text": [
      "0.62000\n"
     ]
    }
   ],
   "source": [
    "text_clf = Pipeline([('vect', CountVectorizer()),\n",
    "                      ('tfidf', TfidfTransformer()),\n",
    "                      ('clf', SGDClassifier(loss='log', penalty='l2', alpha=1e-3,\n",
    "                                             n_iter=5, random_state=50)),\n",
    "                      ])\n",
    "text_clf = text_clf.fit(yelp_train.data, yelp_train.target)\n",
    "predicted = text_clf.predict(docs_test)\n",
    "print '%.5f' %  np.mean(predicted == yelp_test.target)"
   ]
  },
  {
   "cell_type": "code",
   "execution_count": 229,
   "metadata": {
    "collapsed": false
   },
   "outputs": [
    {
     "name": "stdout",
     "output_type": "stream",
     "text": [
      "0.52500\n"
     ]
    }
   ],
   "source": [
    "#Pipeline of default count vectorizer, and default random forest classifier\n",
    "#Outputs test accuracy of classifier\n",
    "text_clf = Pipeline([ ('vect', CountVectorizer(ngram_range=(1,1))),\n",
    "                      ('clf', MultinomialNB())\n",
    "                      ])\n",
    "text_clf = text_clf.fit(yelp_train.data, yelp_train.target)\n",
    "predicted = text_clf.predict(docs_test)\n",
    "print '%.5f' % (np.mean(predicted == yelp_test.target))"
   ]
  },
  {
   "cell_type": "code",
   "execution_count": 217,
   "metadata": {
    "collapsed": false
   },
   "outputs": [
    {
     "name": "stdout",
     "output_type": "stream",
     "text": [
      "0.63000\n"
     ]
    }
   ],
   "source": [
    "text_clf_2 = Pipeline([('vect', CountVectorizer(ngram_range=(1,2))),\n",
    "                      ('tfidf', TfidfTransformer()),\n",
    "                      ('clf', SGDClassifier(loss='log', penalty='l2', alpha=1e-3,\n",
    "                                             n_iter=5, random_state=50)),\n",
    "                      ])\n",
    "text_clf_2 = text_clf_2.fit(yelp_train.data, yelp_train.target)\n",
    "predicted2 = text_clf_2.predict(docs_test)\n",
    "print '%.5f' % np.mean(predicted2 == yelp_test.target)"
   ]
  },
  {
   "cell_type": "code",
   "execution_count": null,
   "metadata": {
    "collapsed": false
   },
   "outputs": [],
   "source": []
  },
  {
   "cell_type": "code",
   "execution_count": 218,
   "metadata": {
    "collapsed": false
   },
   "outputs": [
    {
     "name": "stdout",
     "output_type": "stream",
     "text": [
      "0.64500\n"
     ]
    }
   ],
   "source": [
    "text_clf_3 = Pipeline([('vect', CountVectorizer(ngram_range=(1,2))),\n",
    "                      ('tfidf', TfidfTransformer()),\n",
    "                      ('clf', SVC(kernel='linear')),\n",
    "                      ])\n",
    "text_clf_3 = text_clf_3.fit(yelp_train.data, yelp_train.target)\n",
    "predicted3 = text_clf_3.predict(docs_test)\n",
    "print '%.5f' % np.mean(predicted3 == yelp_test.target)"
   ]
  },
  {
   "cell_type": "code",
   "execution_count": 221,
   "metadata": {
    "collapsed": false
   },
   "outputs": [
    {
     "data": {
      "image/png": "[encoded data removed]",
      "text/plain": [
       "<matplotlib.figure.Figure at 0x18163128>"
      ]
     },
     "metadata": {},
     "output_type": "display_data"
    }
   ],
   "source": [
    "# Scatterplot of PCA to see if a particular ML algorithm suggests itself for use here.\n",
    "# It does not look like there is any particularly \"nice\" MLA to use\n",
    "count_vect_yelp = CountVectorizer(ngram_range = (1,2))\n",
    "count_vect_yelp = count_vect_yelp.fit_transform(yelp_train.data)\n",
    "transformer = TfidfTransformer()\n",
    "tfidf = transformer.fit_transform(count_vect_yelp)\n",
    "pca = PCA(n_components = 2)\n",
    "pca = pca.fit_transform(tfidf.toarray())\n",
    "pca_x = tuple(x[0] for x in pca)\n",
    "pca_y = tuple(x[1] for x in pca)\n",
    "fig, ax = plt.subplots()\n",
    "ax.scatter(pca_x[:],pca_y[:])\n",
    "plt.show()"
   ]
  },
  {
   "cell_type": "code",
   "execution_count": 9,
   "metadata": {
    "collapsed": true
   },
   "outputs": [],
   "source": []
  },
  {
   "cell_type": "code",
   "execution_count": null,
   "metadata": {
    "collapsed": false
   },
   "outputs": [],
   "source": []
  },
  {
   "cell_type": "code",
   "execution_count": 219,
   "metadata": {
    "collapsed": false
   },
   "outputs": [
    {
     "name": "stdout",
     "output_type": "stream",
     "text": [
      "0.62000\n"
     ]
    }
   ],
   "source": [
    "#Pipeline of default count vectorizer, tf-idf transformer, and support vector classifier with polynomial kernel\n",
    "#Outputs test accuracy of classifier\n",
    "text_clf_4 = Pipeline([('vect', CountVectorizer(ngram_range=(1,2))),\n",
    "                      ('tfidf', TfidfTransformer()),\n",
    "                      ('clf', SVC(kernel='poly')),\n",
    "                      ])\n",
    "text_clf_4 = text_clf_4.fit(yelp_train.data, yelp_train.target)\n",
    "predicted4 = text_clf_4.predict(docs_test)\n",
    "print '%.5f' %  np.mean(predicted4 == yelp_test.target)"
   ]
  },
  {
   "cell_type": "code",
   "execution_count": null,
   "metadata": {
    "collapsed": false
   },
   "outputs": [],
   "source": []
  },
  {
   "cell_type": "code",
   "execution_count": 222,
   "metadata": {
    "collapsed": false
   },
   "outputs": [
    {
     "name": "stdout",
     "output_type": "stream",
     "text": [
      "0.61500\n"
     ]
    }
   ],
   "source": [
    "#Pipeline of default count vectorizer, tf-idf transformer, and support vector classifier with rbf kernel\n",
    "#Outputs test accuracy of classifier\n",
    "text_clf_5 = Pipeline([('vect', CountVectorizer(ngram_range=(1,2))),\n",
    "                      ('tfidf', TfidfTransformer()),\n",
    "                      ('clf', SVC(kernel='rbf')),\n",
    "                      ])\n",
    "text_clf_5 = text_clf_5.fit(yelp_train.data, yelp_train.target)\n",
    "predicted5 = text_clf_5.predict(docs_test)\n",
    "print '%.5f' % np.mean(predicted5 == yelp_test.target)"
   ]
  },
  {
   "cell_type": "code",
   "execution_count": null,
   "metadata": {
    "collapsed": false
   },
   "outputs": [],
   "source": []
  },
  {
   "cell_type": "code",
   "execution_count": 223,
   "metadata": {
    "collapsed": false
   },
   "outputs": [
    {
     "name": "stdout",
     "output_type": "stream",
     "text": [
      "0.65000\n"
     ]
    }
   ],
   "source": [
    "#Pipeline of default count vectorizer, tf-idf transformer, and stochastic gradient descent SVC\n",
    "#Outputs test accuracy of classifier\n",
    "text_clf_6 = Pipeline([('vect', CountVectorizer(ngram_range=(1,2))),\n",
    "                      ('tfidf', TfidfTransformer()),\n",
    "                      ('clf', SGDClassifier(loss='hinge', penalty='l2', alpha=1e-3,\n",
    "                                             n_iter=5, random_state=50)),\n",
    "                      ])\n",
    "text_clf_6 = text_clf_6.fit(yelp_train.data, yelp_train.target)\n",
    "predicted6 = text_clf_6.predict(docs_test)\n",
    "print '%.5f' % np.mean(predicted6 == yelp_test.target)"
   ]
  },
  {
   "cell_type": "code",
   "execution_count": null,
   "metadata": {
    "collapsed": false
   },
   "outputs": [],
   "source": []
  },
  {
   "cell_type": "code",
   "execution_count": 224,
   "metadata": {
    "collapsed": false
   },
   "outputs": [
    {
     "name": "stdout",
     "output_type": "stream",
     "text": [
      "0.65500\n"
     ]
    }
   ],
   "source": [
    "#Pipeline of default count vectorizer, tf-idf transformer, and stochastic gradient descent SVC\n",
    "#with modified loss function\n",
    "#Outputs test accuracy of classifier\n",
    "text_clf_7 = Pipeline([('vect', CountVectorizer(ngram_range=(1,2))),\n",
    "                      ('tfidf', TfidfTransformer()),\n",
    "                      ('clf', SGDClassifier(loss='modified_huber', penalty='l1', alpha=1e-3,\n",
    "                                             n_iter=5, random_state=50)),\n",
    "                      ])\n",
    "text_clf_7 = text_clf_7.fit(yelp_train.data, yelp_train.target)\n",
    "predicted7 = text_clf_7.predict(docs_test)\n",
    "print '%.5f' % np.mean(predicted7 == yelp_test.target)"
   ]
  },
  {
   "cell_type": "code",
   "execution_count": null,
   "metadata": {
    "collapsed": false
   },
   "outputs": [],
   "source": []
  },
  {
   "cell_type": "code",
   "execution_count": 19,
   "metadata": {
    "collapsed": false
   },
   "outputs": [],
   "source": [
    "\n"
   ]
  },
  {
   "cell_type": "code",
   "execution_count": 20,
   "metadata": {
    "collapsed": false
   },
   "outputs": [],
   "source": []
  },
  {
   "cell_type": "code",
   "execution_count": 21,
   "metadata": {
    "collapsed": false
   },
   "outputs": [],
   "source": []
  },
  {
   "cell_type": "code",
   "execution_count": 22,
   "metadata": {
    "collapsed": false
   },
   "outputs": [],
   "source": []
  },
  {
   "cell_type": "code",
   "execution_count": 23,
   "metadata": {
    "collapsed": true
   },
   "outputs": [],
   "source": []
  },
  {
   "cell_type": "code",
   "execution_count": null,
   "metadata": {
    "collapsed": false
   },
   "outputs": [],
   "source": [
    "\n"
   ]
  },
  {
   "cell_type": "code",
   "execution_count": 225,
   "metadata": {
    "collapsed": false
   },
   "outputs": [
    {
     "name": "stdout",
     "output_type": "stream",
     "text": [
      "0.59500\n"
     ]
    }
   ],
   "source": [
    "#Pipeline of default count vectorizer, tf-idf transformer, and random forest classifier\n",
    "#Outputs test accuracy of classifier\n",
    "text_clf_8 = Pipeline([('vect', CountVectorizer(ngram_range=(1,2))),\n",
    "                      ('tfidf', TfidfTransformer()),\n",
    "                      ('clf', RandomForestClassifier()),\n",
    "                      ])\n",
    "text_clf_8 = text_clf_8.fit(yelp_train.data, yelp_train.target)\n",
    "predicted8 = text_clf_8.predict(docs_test)\n",
    "print '%.5f' % np.mean(predicted8 == yelp_test.target)"
   ]
  },
  {
   "cell_type": "code",
   "execution_count": null,
   "metadata": {
    "collapsed": false
   },
   "outputs": [],
   "source": []
  },
  {
   "cell_type": "code",
   "execution_count": 213,
   "metadata": {
    "collapsed": false
   },
   "outputs": [
    {
     "name": "stdout",
     "output_type": "stream",
     "text": [
      "0.70000\n"
     ]
    }
   ],
   "source": [
    "text_clf_9 = Pipeline([('vect', CountVectorizer(ngram_range=(1,5))),\n",
    "                      ('tfidf', TfidfTransformer()),\n",
    "                      ('clf', RandomForestClassifier(n_estimators = 12, max_features = 4, criterion = 'entropy', random_state = 42, \\\n",
    "                                                    bootstrap=True)),\n",
    "                      ])\n",
    "text_clf_9 = text_clf_9.fit(yelp_train.data, yelp_train.target)\n",
    "predicted9 = text_clf_9.predict(docs_test)\n",
    "print '%.5f' % (np.mean(predicted9 == yelp_test.target))"
   ]
  },
  {
   "cell_type": "code",
   "execution_count": 228,
   "metadata": {
    "collapsed": false
   },
   "outputs": [
    {
     "name": "stdout",
     "output_type": "stream",
     "text": [
      "0.61000\n"
     ]
    }
   ],
   "source": [
    "#Pipeline of default count vectorizer, tf-idf transformer, and default multinomial naive Bayes classifier\n",
    "#Outputs test accuracy of classifier\n",
    "text_clf = Pipeline([  ('vect', CountVectorizer(ngram_range=(1,1))),\n",
    "                       ('tfidf', TfidfTransformer()),\n",
    "                       ('clf', MultinomialNB()),\n",
    "                      ])\n",
    "text_clf = text_clf.fit(yelp_train.data, yelp_train.target)\n",
    "predicted = text_clf.predict(docs_test)\n",
    "print '%.5f' % (np.mean(predicted == yelp_test.target))"
   ]
  },
  {
   "cell_type": "code",
   "execution_count": null,
   "metadata": {
    "collapsed": true
   },
   "outputs": [],
   "source": []
  }
 ],
 "metadata": {
  "kernelspec": {
   "display_name": "Python 2",
   "language": "python",
   "name": "python2"
  },
  "language_info": {
   "codemirror_mode": {
    "name": "ipython",
    "version": 2
   },
   "file_extension": ".py",
   "mimetype": "text/x-python",
   "name": "python",
   "nbconvert_exporter": "python",
   "pygments_lexer": "ipython2",
   "version": "2.7.10"
  }
 },
 "nbformat": 4,
 "nbformat_minor": 0
}
