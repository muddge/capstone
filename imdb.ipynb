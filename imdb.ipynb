{
 "cells": [
  {
   "cell_type": "code",
   "execution_count": 1,
   "metadata": {
    "collapsed": true
   },
   "outputs": [],
   "source": [
    "from sklearn.feature_extraction.text import CountVectorizer\n",
    "from sklearn.feature_extraction.text import TfidfTransformer\n",
    "from sklearn.naive_bayes import MultinomialNB\n",
    "from sklearn.datasets import load_files\n",
    "from sklearn.pipeline import Pipeline\n",
    "from sklearn.linear_model import SGDClassifier\n",
    "from sklearn.grid_search import GridSearchCV\n",
    "from sklearn import metrics\n",
    "from sklearn.svm import SVC\n",
    "import numpy as np\n",
    "import nltk\n",
    "import os\n",
    "import re\n",
    "import random"
   ]
  },
  {
   "cell_type": "code",
   "execution_count": 2,
   "metadata": {
    "collapsed": false
   },
   "outputs": [],
   "source": [
    "imdb_train = load_files('.\\\\imdb\\\\train', description='imdb reviews train', categories=['neg','pos'], shuffle='True',\n",
    "                            load_content=True, encoding='utf-8')\n",
    "imdb_test = load_files('.\\\\imdb\\\\test', description='imdb reviews test', categories=['neg','pos'], shuffle='True',\n",
    "                            load_content=True, encoding='utf-8')\n",
    "docs_test = imdb_test.data"
   ]
  },
  {
   "cell_type": "code",
   "execution_count": 5,
   "metadata": {
    "collapsed": false
   },
   "outputs": [
    {
     "name": "stdout",
     "output_type": "stream",
     "text": [
      "0.80597\n"
     ]
    }
   ],
   "source": [
    "#Pipeline of default count vectorizer, multinomial naive Bayes classifier, as a sort of baseline\n",
    "#Outputs test accuracy of classifier\n",
    "text_clf = Pipeline([ ('vect', CountVectorizer(ngram_range=(1,1))),\n",
    "                      ('clf', MultinomialNB())\n",
    "                      ])\n",
    "text_clf = text_clf.fit(imdb_train.data, imdb_train.target)\n",
    "predicted = text_clf.predict(docs_test)\n",
    "print '%.5f' % (np.mean(predicted == imdb_test.target))"
   ]
  },
  {
   "cell_type": "code",
   "execution_count": 3,
   "metadata": {
    "collapsed": false
   },
   "outputs": [
    {
     "name": "stdout",
     "output_type": "stream",
     "text": [
      "0.78109\n"
     ]
    }
   ],
   "source": [
    "#Pipeline of default count vectorizer, tf-idf transformer, and SGD classifier\n",
    "#Outputs test accuracy of classifier\n",
    "text_clf = Pipeline([('vect', CountVectorizer()),\n",
    "                      ('tfidf', TfidfTransformer()),\n",
    "                      ('clf', SGDClassifier(loss='log', penalty='l2', alpha=1e-3,\n",
    "                                             n_iter=5, random_state=50)),\n",
    "                      ])\n",
    "text_clf = text_clf.fit(imdb_train.data, imdb_train.target)\n",
    "predicted = text_clf.predict(docs_test)\n",
    "print '%.5f' % np.mean(predicted == imdb_test.target)"
   ]
  },
  {
   "cell_type": "code",
   "execution_count": 7,
   "metadata": {
    "collapsed": false
   },
   "outputs": [
    {
     "data": {
      "text/plain": [
       "0.78109452736318408"
      ]
     },
     "execution_count": 7,
     "metadata": {},
     "output_type": "execute_result"
    }
   ],
   "source": [
    "text_clf_2 = Pipeline([('vect2', CountVectorizer()),\n",
    "                      ('tfidf2', TfidfTransformer()),\n",
    "                      ('clf2', SVC(kernel='linear')),\n",
    "                      ])\n",
    "text_clf_2 = text_clf_2.fit(imdb_train.data, imdb_train.target)\n",
    "predicted2 = text_clf_2.predict(docs_test)\n",
    "print '%.5f' % np.mean(predicted2 == imdb_test.target)"
   ]
  },
  {
   "cell_type": "code",
   "execution_count": 4,
   "metadata": {
    "collapsed": false
   },
   "outputs": [
    {
     "name": "stdout",
     "output_type": "stream",
     "text": [
      "0.81095\n"
     ]
    }
   ],
   "source": [
    "text_clf_3 = Pipeline([('vect3', CountVectorizer()),\n",
    "                      ('tfidf3', TfidfTransformer()),\n",
    "                      ('clf3', SVC(C=0.5, kernel='linear')),\n",
    "                      ])\n",
    "text_clf_3 = text_clf_3.fit(imdb_train.data, imdb_train.target)\n",
    "predicted3 = text_clf_3.predict(docs_test)\n",
    "print '%.5f' % np.mean(predicted3 == imdb_test.target)"
   ]
  },
  {
   "cell_type": "code",
   "execution_count": null,
   "metadata": {
    "collapsed": false
   },
   "outputs": [],
   "source": []
  },
  {
   "cell_type": "code",
   "execution_count": 11,
   "metadata": {
    "collapsed": true
   },
   "outputs": [],
   "source": []
  },
  {
   "cell_type": "code",
   "execution_count": null,
   "metadata": {
    "collapsed": false
   },
   "outputs": [],
   "source": []
  },
  {
   "cell_type": "code",
   "execution_count": null,
   "metadata": {
    "collapsed": true
   },
   "outputs": [],
   "source": []
  }
 ],
 "metadata": {
  "kernelspec": {
   "display_name": "Python 2",
   "language": "python",
   "name": "python2"
  },
  "language_info": {
   "codemirror_mode": {
    "name": "ipython",
    "version": 2
   },
   "file_extension": ".py",
   "mimetype": "text/x-python",
   "name": "python",
   "nbconvert_exporter": "python",
   "pygments_lexer": "ipython2",
   "version": "2.7.10"
  }
 },
 "nbformat": 4,
 "nbformat_minor": 0
}
