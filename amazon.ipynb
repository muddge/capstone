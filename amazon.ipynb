{
 "cells": [
  {
   "cell_type": "code",
   "execution_count": 24,
   "metadata": {
    "collapsed": false
   },
   "outputs": [],
   "source": [
    "from sklearn.feature_extraction.text import CountVectorizer\n",
    "from sklearn.feature_extraction.text import TfidfTransformer\n",
    "from sklearn.naive_bayes import MultinomialNB\n",
    "from sklearn.naive_bayes import GaussianNB\n",
    "from sklearn.datasets import load_files\n",
    "from sklearn.pipeline import Pipeline\n",
    "from sklearn.linear_model import SGDClassifier\n",
    "from sklearn.grid_search import GridSearchCV\n",
    "from sklearn.decomposition import PCA\n",
    "from sklearn import metrics\n",
    "from sklearn.svm import SVC\n",
    "from sklearn.ensemble import RandomForestClassifier \n",
    "import matplotlib.pyplot as plt\n",
    "import numpy as np\n",
    "import nltk\n",
    "import os\n",
    "import re\n",
    "import random\n",
    "%matplotlib inline"
   ]
  },
  {
   "cell_type": "code",
   "execution_count": 36,
   "metadata": {
    "collapsed": true
   },
   "outputs": [],
   "source": [
    "#Load test and training data for sentiment classifier, and load test documents.\n",
    "amazon_train = load_files('.\\\\amazon\\\\train', description='amazon movie reviews train', categories=['neg','pos'], shuffle='True',\n",
    "                            load_content=True, encoding='utf-8')\n",
    "amazon_test = load_files('.\\\\amazon\\\\test', description='amazon movie reviews test', categories=['neg','pos'], shuffle='True',\n",
    "                            load_content=True, encoding='utf-8')\n",
    "docs_test = amazon_test.data\n",
    "X = np.array(amazon_train.data)\n",
    "Y = np.array(amazon_train.target)"
   ]
  },
  {
   "cell_type": "code",
   "execution_count": 59,
   "metadata": {
    "collapsed": false
   },
   "outputs": [
    {
     "name": "stdout",
     "output_type": "stream",
     "text": [
      "0.68500\n"
     ]
    }
   ],
   "source": [
    "#Pipeline of default count vectorizer, tf-idf transformer, and default random forest classifier\n",
    "#Outputs test accuracy of classifier\n",
    "text_clf = Pipeline([ ('vect', CountVectorizer(ngram_range=(1,1))),\n",
    "                      ('clf', MultinomialNB())\n",
    "                      ])\n",
    "text_clf = text_clf.fit(amazon_train.data, amazon_train.target)\n",
    "predicted = text_clf.predict(docs_test)\n",
    "print '%.5f' % (np.mean(predicted == amazon_test.target))"
   ]
  },
  {
   "cell_type": "code",
   "execution_count": 34,
   "metadata": {
    "collapsed": false
   },
   "outputs": [
    {
     "name": "stdout",
     "output_type": "stream",
     "text": [
      "0.66500\n"
     ]
    }
   ],
   "source": [
    "#Pipeline of default count vectorizer, tf-idf transformer, and default random forest classifier\n",
    "#Outputs test accuracy of classifier\n",
    "text_clf_1 = Pipeline([('vect', CountVectorizer(ngram_range=(1,1))),\n",
    "                      ('tfidf', TfidfTransformer()),\n",
    "                      ('clf', RandomForestClassifier()),\n",
    "                      ])\n",
    "text_clf_1 = text_clf_1.fit(amazon_train.data, amazon_train.target)\n",
    "predicted1 = text_clf_1.predict(docs_test)\n",
    "print '%.5f' % (np.mean(predicted1 == amazon_test.target))"
   ]
  },
  {
   "cell_type": "code",
   "execution_count": null,
   "metadata": {
    "collapsed": false
   },
   "outputs": [],
   "source": []
  },
  {
   "cell_type": "code",
   "execution_count": 35,
   "metadata": {
    "collapsed": false
   },
   "outputs": [
    {
     "name": "stdout",
     "output_type": "stream",
     "text": [
      "0.76500\n"
     ]
    }
   ],
   "source": [
    "text_clf_2 = Pipeline([('vect', CountVectorizer()),\n",
    "                      ('tfidf', TfidfTransformer()),\n",
    "                      ('clf', SGDClassifier(loss='log', penalty='l2', alpha=1e-3,\n",
    "                                             n_iter=5, random_state=50)),\n",
    "                      ])\n",
    "text_clf_2 = text_clf_2.fit(amazon_train.data, amazon_train.target)\n",
    "predicted2 = text_clf_2.predict(docs_test)\n",
    "print '%.5f' % np.mean(predicted2 == amazon_test.target)"
   ]
  },
  {
   "cell_type": "code",
   "execution_count": 22,
   "metadata": {
    "collapsed": false
   },
   "outputs": [
    {
     "name": "stdout",
     "output_type": "stream",
     "text": [
      "0.64000\n"
     ]
    }
   ],
   "source": [
    "text_clf_3 = Pipeline([('vect', CountVectorizer()),\n",
    "                      ('tfidf', TfidfTransformer()),\n",
    "                      ('clf', SVC()),\n",
    "                      ])\n",
    "text_clf_3 = text_clf_3.fit(amazon_train.data, amazon_train.target)\n",
    "predicted3 = text_clf_3.predict(docs_test)\n",
    "print '%.5f' %  np.mean(predicted3 == amazon_test.target)"
   ]
  },
  {
   "cell_type": "code",
   "execution_count": 45,
   "metadata": {
    "collapsed": false
   },
   "outputs": [],
   "source": []
  },
  {
   "cell_type": "code",
   "execution_count": null,
   "metadata": {
    "collapsed": false
   },
   "outputs": [],
   "source": []
  },
  {
   "cell_type": "code",
   "execution_count": 49,
   "metadata": {
    "collapsed": false
   },
   "outputs": [
    {
     "name": "stdout",
     "output_type": "stream",
     "text": [
      "0.73000\n"
     ]
    }
   ],
   "source": [
    "text_clf_4 = Pipeline([('vect', CountVectorizer(ngram_range=(1,2))),\n",
    "                      ('tfidf', TfidfTransformer()),\n",
    "                      ('clf', SGDClassifier(loss='log', penalty='l2', alpha=1e-3,\n",
    "                                             n_iter=5, random_state=50)),\n",
    "                      ])\n",
    "text_clf_4 = text_clf_4.fit(amazon_train.data, amazon_train.target)\n",
    "predicted4 = text_clf_4.predict(docs_test)\n",
    "print '%.5f' % np.mean(predicted4 == amazon_test.target)"
   ]
  },
  {
   "cell_type": "code",
   "execution_count": 50,
   "metadata": {
    "collapsed": false
   },
   "outputs": [],
   "source": []
  },
  {
   "cell_type": "code",
   "execution_count": 51,
   "metadata": {
    "collapsed": true
   },
   "outputs": [],
   "source": []
  },
  {
   "cell_type": "code",
   "execution_count": null,
   "metadata": {
    "collapsed": false
   },
   "outputs": [],
   "source": []
  },
  {
   "cell_type": "code",
   "execution_count": 50,
   "metadata": {
    "collapsed": false
   },
   "outputs": [
    {
     "name": "stdout",
     "output_type": "stream",
     "text": [
      "0.74500\n"
     ]
    }
   ],
   "source": [
    "text_clf_5 = Pipeline([('vect', CountVectorizer()),\n",
    "                      ('tfidf', TfidfTransformer()),\n",
    "                      ('clf', SGDClassifier(loss='log', penalty='l2', alpha=1e-2,\n",
    "                                             n_iter=5, random_state=50)),\n",
    "                      ])\n",
    "text_clf_5 = text_clf_5.fit(amazon_train.data, amazon_train.target)\n",
    "predicted5 = text_clf_5.predict(docs_test)\n",
    "print '%.5f' % np.mean(predicted5 == amazon_test.target)"
   ]
  },
  {
   "cell_type": "code",
   "execution_count": null,
   "metadata": {
    "collapsed": false
   },
   "outputs": [],
   "source": []
  },
  {
   "cell_type": "code",
   "execution_count": 55,
   "metadata": {
    "collapsed": false
   },
   "outputs": [
    {
     "name": "stdout",
     "output_type": "stream",
     "text": [
      "0.64000\n"
     ]
    }
   ],
   "source": [
    "text_clf_6 = Pipeline([('vect', CountVectorizer()),\n",
    "                      ('tfidf', TfidfTransformer()),\n",
    "                      ('clf', SVC()),\n",
    "                      ])\n",
    "text_clf_6 = text_clf_6.fit(amazon_train.data, amazon_train.target)\n",
    "predicted6 = text_clf_6.predict(docs_test)\n",
    "print '%.5f' %  np.mean(predicted6 == amazon_test.target)"
   ]
  },
  {
   "cell_type": "code",
   "execution_count": null,
   "metadata": {
    "collapsed": false
   },
   "outputs": [],
   "source": []
  },
  {
   "cell_type": "code",
   "execution_count": 52,
   "metadata": {
    "collapsed": false
   },
   "outputs": [
    {
     "name": "stdout",
     "output_type": "stream",
     "text": [
      "0.71500\n"
     ]
    }
   ],
   "source": [
    "text_clf_7 = Pipeline([('vect', CountVectorizer()),\n",
    "                      ('tfidf', TfidfTransformer()),\n",
    "                      ('clf', SVC(kernel='linear')),\n",
    "                      ])\n",
    "text_clf_7 = text_clf_7.fit(amazon_train.data, amazon_train.target)\n",
    "predicted7 = text_clf_7.predict(docs_test)\n",
    "print '%.5f' % np.mean(predicted7 == amazon_test.target)"
   ]
  },
  {
   "cell_type": "code",
   "execution_count": null,
   "metadata": {
    "collapsed": false
   },
   "outputs": [],
   "source": []
  },
  {
   "cell_type": "code",
   "execution_count": 53,
   "metadata": {
    "collapsed": false
   },
   "outputs": [
    {
     "name": "stdout",
     "output_type": "stream",
     "text": [
      "0.75000\n"
     ]
    }
   ],
   "source": [
    "text_clf_8 = Pipeline([('vect', CountVectorizer()),\n",
    "                      ('tfidf', TfidfTransformer()),\n",
    "                      ('clf', SVC(C=0.5, kernel='linear')),\n",
    "                      ])\n",
    "text_clf_8 = text_clf_8.fit(amazon_train.data, amazon_train.target)\n",
    "predicted8 = text_clf_8.predict(docs_test)\n",
    "print '%.5f' % np.mean(predicted8 == amazon_test.target)"
   ]
  },
  {
   "cell_type": "code",
   "execution_count": null,
   "metadata": {
    "collapsed": false
   },
   "outputs": [],
   "source": []
  },
  {
   "cell_type": "code",
   "execution_count": 77,
   "metadata": {
    "collapsed": true
   },
   "outputs": [],
   "source": []
  },
  {
   "cell_type": "code",
   "execution_count": null,
   "metadata": {
    "collapsed": false
   },
   "outputs": [],
   "source": []
  },
  {
   "cell_type": "code",
   "execution_count": null,
   "metadata": {
    "collapsed": true
   },
   "outputs": [],
   "source": []
  }
 ],
 "metadata": {
  "kernelspec": {
   "display_name": "Python 2",
   "language": "python",
   "name": "python2"
  },
  "language_info": {
   "codemirror_mode": {
    "name": "ipython",
    "version": 2
   },
   "file_extension": ".py",
   "mimetype": "text/x-python",
   "name": "python",
   "nbconvert_exporter": "python",
   "pygments_lexer": "ipython2",
   "version": "2.7.10"
  }
 },
 "nbformat": 4,
 "nbformat_minor": 0
}
