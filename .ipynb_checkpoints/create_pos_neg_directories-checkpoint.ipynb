{
 "cells": [
  {
   "cell_type": "code",
   "execution_count": 18,
   "metadata": {
    "collapsed": true
   },
   "outputs": [],
   "source": [
    "#This code is also reused to create the documents for the IMDB and Yelp problems.\n",
    "import re\n",
    "import nltk\n",
    "import os\n"
   ]
  },
  {
   "cell_type": "code",
   "execution_count": 75,
   "metadata": {
    "collapsed": true
   },
   "outputs": [],
   "source": [
    "os.chdir('..')"
   ]
  },
  {
   "cell_type": "code",
   "execution_count": 85,
   "metadata": {
    "collapsed": false
   },
   "outputs": [
    {
     "data": {
      "text/plain": [
       "'C:\\\\Users\\\\home\\\\Desktop\\\\sentiment\\\\sentiment_labelled_sentences\\\\sentiment_labelled_sentences'"
      ]
     },
     "execution_count": 85,
     "metadata": {},
     "output_type": "execute_result"
    }
   ],
   "source": [
    "os.path.abspath('.')"
   ]
  },
  {
   "cell_type": "code",
   "execution_count": 80,
   "metadata": {
    "collapsed": false
   },
   "outputs": [],
   "source": [
    "# Create list for positive amazon reviews, where each entry is one line from the text file.\n",
    "i = 0\n",
    "lst = range(500)\n",
    "with open('amazon_pos.txt') as f_pos:\n",
    "    for line in f_pos:\n",
    "        lst[i] = line\n",
    "        i += 1\n"
   ]
  },
  {
   "cell_type": "code",
   "execution_count": 87,
   "metadata": {
    "collapsed": false
   },
   "outputs": [],
   "source": [
    "# Create list for negative amazon reviews, where each entry is one line from the text file.\n",
    "k = 0\n",
    "lst1 = range(500)\n",
    "with open('amazon_neg.txt') as f_neg:\n",
    "    for line in f_neg:\n",
    "        lst1[k] = line\n",
    "        k += 1"
   ]
  },
  {
   "cell_type": "code",
   "execution_count": null,
   "metadata": {
    "collapsed": true
   },
   "outputs": [],
   "source": [
    "# Create new document for each positive amazon review in the amazon_pos directory.\n",
    "j = 0\n",
    "for string in lst:\n",
    "    with open('C:\\\\Users\\\\home\\\\Desktop\\\\sentiment\\\\sentiment_labelled_sentences\\\\sentiment_labelled_sentences\\\\amazon_pos\\\\' + str(j) + '.txt', 'w') as new_file:\n",
    "        new_file.write(str(string))\n",
    "        j += 1"
   ]
  },
  {
   "cell_type": "code",
   "execution_count": null,
   "metadata": {
    "collapsed": true
   },
   "outputs": [],
   "source": [
    "# Create new document for each negative amazon review in the amazon_neg directory.\n",
    "l = 0\n",
    "for string in lst1:\n",
    "    with open('C:\\\\Users\\\\home\\\\Desktop\\\\sentiment\\\\sentiment_labelled_sentences\\\\sentiment_labelled_sentences\\\\amazon_neg\\\\' + str(l) + '.txt', 'w') as new_file:\n",
    "        new_file.write(str(string))\n",
    "        l += 1"
   ]
  },
  {
   "cell_type": "code",
   "execution_count": null,
   "metadata": {
    "collapsed": true
   },
   "outputs": [],
   "source": []
  },
  {
   "cell_type": "code",
   "execution_count": 86,
   "metadata": {
    "collapsed": false
   },
   "outputs": [],
   "source": []
  },
  {
   "cell_type": "code",
   "execution_count": 88,
   "metadata": {
    "collapsed": false
   },
   "outputs": [],
   "source": []
  },
  {
   "cell_type": "code",
   "execution_count": 73,
   "metadata": {
    "collapsed": false
   },
   "outputs": [],
   "source": []
  },
  {
   "cell_type": "code",
   "execution_count": null,
   "metadata": {
    "collapsed": false
   },
   "outputs": [],
   "source": []
  },
  {
   "cell_type": "code",
   "execution_count": null,
   "metadata": {
    "collapsed": false
   },
   "outputs": [],
   "source": []
  },
  {
   "cell_type": "code",
   "execution_count": null,
   "metadata": {
    "collapsed": false
   },
   "outputs": [],
   "source": []
  },
  {
   "cell_type": "code",
   "execution_count": null,
   "metadata": {
    "collapsed": false
   },
   "outputs": [],
   "source": []
  },
  {
   "cell_type": "code",
   "execution_count": null,
   "metadata": {
    "collapsed": false
   },
   "outputs": [],
   "source": []
  },
  {
   "cell_type": "code",
   "execution_count": null,
   "metadata": {
    "collapsed": true
   },
   "outputs": [],
   "source": []
  }
 ],
 "metadata": {
  "kernelspec": {
   "display_name": "Python 2",
   "language": "python",
   "name": "python2"
  },
  "language_info": {
   "codemirror_mode": {
    "name": "ipython",
    "version": 2
   },
   "file_extension": ".py",
   "mimetype": "text/x-python",
   "name": "python",
   "nbconvert_exporter": "python",
   "pygments_lexer": "ipython2",
   "version": "2.7.10"
  }
 },
 "nbformat": 4,
 "nbformat_minor": 0
}
